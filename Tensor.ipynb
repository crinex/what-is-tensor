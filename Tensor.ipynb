{
  "nbformat": 4,
  "nbformat_minor": 0,
  "metadata": {
    "colab": {
      "name": "Tensor.ipynb",
      "provenance": [],
      "collapsed_sections": [],
      "authorship_tag": "ABX9TyNxZMvZ0DfiT3GSsWkFblaU",
      "include_colab_link": true
    },
    "kernelspec": {
      "name": "python3",
      "display_name": "Python 3"
    }
  },
  "cells": [
    {
      "cell_type": "markdown",
      "metadata": {
        "id": "view-in-github",
        "colab_type": "text"
      },
      "source": [
        "<a href=\"https://colab.research.google.com/github/crinex/what-is-tensor/blob/main/Tensor.ipynb\" target=\"_parent\"><img src=\"https://colab.research.google.com/assets/colab-badge.svg\" alt=\"Open In Colab\"/></a>"
      ]
    },
    {
      "cell_type": "markdown",
      "metadata": {
        "id": "LjFBhs7bb6D6"
      },
      "source": [
        "## What is the Tensor?\n",
        "\n",
        "- 텐서는 데이터를 위한 컨테이너이다.\n",
        "- 데이터는 크게 차원의 형태를 보고 구조를 파악한다.\n",
        "- 예를 들어 0차원(0D텐서)은 스칼라라고 하고, 1차원(1D텐서)은 벡터등이 있다.\n",
        "- 2차원은 행렬이라고 불리는데, 그 이후부터는 모두 랭크가 N인 텐서라고 한다."
      ]
    },
    {
      "cell_type": "markdown",
      "metadata": {
        "id": "m4HdhQczc_hD"
      },
      "source": [
        "### Scalar(0D Tensor)\n",
        "- 하나의 수치 값을 갖는 텐서를 스칼라, 스칼라텐서, 0D 텐서 등으로 불리운다.\n",
        "- 스칼라 텐서의 축의 개수는 0, 즉 차원의 수가 0이라는 의미이다.\n",
        "- 텐서에서는 축의 개수는 랭크라고 부른다."
      ]
    },
    {
      "cell_type": "code",
      "metadata": {
        "id": "xyH6e-Klbxbq"
      },
      "source": [
        "import numpy as np"
      ],
      "execution_count": 1,
      "outputs": []
    },
    {
      "cell_type": "code",
      "metadata": {
        "colab": {
          "base_uri": "https://localhost:8080/"
        },
        "id": "OFjssuNednr1",
        "outputId": "a32ff2b8-88da-42db-895f-cd03e7b33187"
      },
      "source": [
        "x = np.array(12)\n",
        "x"
      ],
      "execution_count": 2,
      "outputs": [
        {
          "output_type": "execute_result",
          "data": {
            "text/plain": [
              "array(12)"
            ]
          },
          "metadata": {
            "tags": []
          },
          "execution_count": 2
        }
      ]
    },
    {
      "cell_type": "code",
      "metadata": {
        "colab": {
          "base_uri": "https://localhost:8080/"
        },
        "id": "-F2YiR_fdqx1",
        "outputId": "79937d3f-6f66-4ef4-bb0f-6e178573ca90"
      },
      "source": [
        "# 각 데이터의 차원의 형태를 보고 싶으면 ndim을 사용한다.\n",
        "x.ndim"
      ],
      "execution_count": 4,
      "outputs": [
        {
          "output_type": "execute_result",
          "data": {
            "text/plain": [
              "0"
            ]
          },
          "metadata": {
            "tags": []
          },
          "execution_count": 4
        }
      ]
    },
    {
      "cell_type": "markdown",
      "metadata": {
        "id": "31g1oj0xd6Vn"
      },
      "source": [
        "### Vector(1D Tensor)\n",
        "- 숫자의 배열을 벡터라고 한다.\n",
        "- 벡터는 1D텐서로서 하나의 축을 갖는다.\n",
        "- 벡터는 선형대수에서 공간을 이해할 수 있는 기본 단위로써 사용된다.\n",
        "- 벡터가 갖는 값의 개수에 따라 N차원의 벡터를 표현할 수 있으며, N차원의 공간을 나타낼 수도 있다.\n",
        "- 3D텐서와 3D벡터는 다른것이다. 3D텐서는 축을 3개 갖고있는 데이터이고 3D벡터는 하나의 축을 따라 3개의 차원을 갖고 있는것이다."
      ]
    },
    {
      "cell_type": "code",
      "metadata": {
        "colab": {
          "base_uri": "https://localhost:8080/"
        },
        "id": "pjb5l8UkdzuQ",
        "outputId": "62a14001-679b-4b69-d6fc-d89c78c99983"
      },
      "source": [
        "x = np.array([12, 3, 6, 14, 7])\n",
        "x"
      ],
      "execution_count": 5,
      "outputs": [
        {
          "output_type": "execute_result",
          "data": {
            "text/plain": [
              "array([12,  3,  6, 14,  7])"
            ]
          },
          "metadata": {
            "tags": []
          },
          "execution_count": 5
        }
      ]
    },
    {
      "cell_type": "code",
      "metadata": {
        "colab": {
          "base_uri": "https://localhost:8080/"
        },
        "id": "FBGKlvA5fz3q",
        "outputId": "02220744-cff4-4cdf-84ca-bc735be8c086"
      },
      "source": [
        "x.ndim"
      ],
      "execution_count": 7,
      "outputs": [
        {
          "output_type": "execute_result",
          "data": {
            "text/plain": [
              "1"
            ]
          },
          "metadata": {
            "tags": []
          },
          "execution_count": 7
        }
      ]
    },
    {
      "cell_type": "markdown",
      "metadata": {
        "id": "RTvM_SJAf23W"
      },
      "source": [
        "### Matrix(2D Tensor)\n",
        "- 행렬은 벡터의 배열이라고 생각하면 된다.\n",
        "- 공간에 표현되는 \"어떤 상태\"가 있고 일관된 관점에서 각 상태의 값을 표현하는 것이다.\n",
        "- 행렬은 2개의 축을 갖고 보통 Row(행), Column(열)이라고 한다."
      ]
    },
    {
      "cell_type": "code",
      "metadata": {
        "colab": {
          "base_uri": "https://localhost:8080/"
        },
        "id": "xdtdkoGLf1Y1",
        "outputId": "6f8f6310-36e3-4d22-fc8c-077243d4a773"
      },
      "source": [
        "x = np.array([[5, 78, 2, 34, 0], \n",
        "                  [6, 79, 3, 35, 1], \n",
        "                  [7, 80, 4, 36, 2]])\n",
        "x.ndim"
      ],
      "execution_count": 8,
      "outputs": [
        {
          "output_type": "execute_result",
          "data": {
            "text/plain": [
              "2"
            ]
          },
          "metadata": {
            "tags": []
          },
          "execution_count": 8
        }
      ]
    },
    {
      "cell_type": "markdown",
      "metadata": {
        "id": "Z55-7JpdgqXU"
      },
      "source": [
        "### 3D Tensor & nD Tensor\n",
        "- 행렬들을 하나의 새로운 배열로 만들면 숫자로 채워진 직육면체 형태로 해석할 수 있다."
      ]
    },
    {
      "cell_type": "code",
      "metadata": {
        "colab": {
          "base_uri": "https://localhost:8080/"
        },
        "id": "3Uua7eADgibW",
        "outputId": "032e4b8d-4449-40f6-ce86-c293dc998af8"
      },
      "source": [
        "x = np.array([[[5, 78, 2, 34, 0], \n",
        "                   [6, 79, 3, 35, 1], \n",
        "                   [7, 80, 4, 36, 2]], \n",
        "                  [[5, 78, 2, 34, 0], \n",
        "                   [6, 79, 3, 35, 1], \n",
        "                   [7, 80, 4, 36, 2]], \n",
        "                  [[5, 78, 2, 34, 0], \n",
        "                   [6, 79, 3, 35, 1], \n",
        "                   [7, 80, 4, 36, 2]]])\n",
        "x.ndim"
      ],
      "execution_count": 9,
      "outputs": [
        {
          "output_type": "execute_result",
          "data": {
            "text/plain": [
              "3"
            ]
          },
          "metadata": {
            "tags": []
          },
          "execution_count": 9
        }
      ]
    },
    {
      "cell_type": "markdown",
      "metadata": {
        "id": "E0v2dN-EhEjt"
      },
      "source": [
        "### Tensor Attribute\n",
        "- 텐서는 3가지의 속성을 갖는다.\n",
        "\n",
        "    1.Rank(축의 개수) : 1D 텐서의 경우엔 1개의 축이있고, 행렬의 경우엔 축이 2개가 있다.\n",
        "\n",
        "    2.Shape(크기) : 텐서의 각 축에 따라 얼마나 많은 차원이 있는지 나타내는 튜플 데이터, 위에서 본 행렬의 크기는 (3,5)이고 3D 텐서의 크기는 (3,3,5)이고 벡터의 크기는 (5,)이다.\n",
        "\n",
        "    3.Data Type(데이터 타입) : 텐서에 포함된 데이터의 타입을 의미한다. float32, float64, uint8 등등이 있다."
      ]
    },
    {
      "cell_type": "markdown",
      "metadata": {
        "id": "bG0jzT8hiWOd"
      },
      "source": [
        "## 실습"
      ]
    },
    {
      "cell_type": "code",
      "metadata": {
        "id": "xtCW0jKmg9mX"
      },
      "source": [
        "from keras.datasets import mnist"
      ],
      "execution_count": 10,
      "outputs": []
    },
    {
      "cell_type": "code",
      "metadata": {
        "colab": {
          "base_uri": "https://localhost:8080/"
        },
        "id": "LFGmtgDribmI",
        "outputId": "0bf9a73d-b0d5-4166-96d0-004cc737b95e"
      },
      "source": [
        "(train_images, train_labels), (test_images, test_labels) = mnist.load_data()"
      ],
      "execution_count": 11,
      "outputs": [
        {
          "output_type": "stream",
          "text": [
            "Downloading data from https://storage.googleapis.com/tensorflow/tf-keras-datasets/mnist.npz\n",
            "11493376/11490434 [==============================] - 0s 0us/step\n"
          ],
          "name": "stdout"
        }
      ]
    },
    {
      "cell_type": "code",
      "metadata": {
        "colab": {
          "base_uri": "https://localhost:8080/"
        },
        "id": "Y09LbHzIilSf",
        "outputId": "eaf34b93-047e-4d70-9d9e-cb46c8a79161"
      },
      "source": [
        "# train_images 데이터의 축의 개수를 확인하자.\n",
        "train_images.ndim"
      ],
      "execution_count": 12,
      "outputs": [
        {
          "output_type": "execute_result",
          "data": {
            "text/plain": [
              "3"
            ]
          },
          "metadata": {
            "tags": []
          },
          "execution_count": 12
        }
      ]
    },
    {
      "cell_type": "code",
      "metadata": {
        "colab": {
          "base_uri": "https://localhost:8080/"
        },
        "id": "KS1if0TaivXR",
        "outputId": "d22b6cd0-cfe0-4b26-bb03-ddb4a3c64481"
      },
      "source": [
        "# 데이터의 크기를 확인하자.\n",
        "train_images.shape"
      ],
      "execution_count": 13,
      "outputs": [
        {
          "output_type": "execute_result",
          "data": {
            "text/plain": [
              "(60000, 28, 28)"
            ]
          },
          "metadata": {
            "tags": []
          },
          "execution_count": 13
        }
      ]
    },
    {
      "cell_type": "code",
      "metadata": {
        "colab": {
          "base_uri": "https://localhost:8080/"
        },
        "id": "7-GAUxN6i1bI",
        "outputId": "8eb12f66-7104-4918-d0a7-28e9ab7d5576"
      },
      "source": [
        "# 데이터 타입을 확인하자.\n",
        "train_images.dtype"
      ],
      "execution_count": 14,
      "outputs": [
        {
          "output_type": "execute_result",
          "data": {
            "text/plain": [
              "dtype('uint8')"
            ]
          },
          "metadata": {
            "tags": []
          },
          "execution_count": 14
        }
      ]
    },
    {
      "cell_type": "markdown",
      "metadata": {
        "id": "lUP4irHbi-5E"
      },
      "source": [
        "- 위와 같은 방식으로 데이터에 대해 알아낸것을 정리해보면 \n",
        "- train_images 데이터는 8비트 정수형 3D 텐서이고, 28x28 크기의 정수 행렬 60000개가 있는 배열이다.\n",
        "- train_images에서 첫 번째 샘플을 시각화 해보자"
      ]
    },
    {
      "cell_type": "code",
      "metadata": {
        "id": "BZZuFUKMi67T"
      },
      "source": [
        "import matplotlib.pyplot as plt"
      ],
      "execution_count": 15,
      "outputs": []
    },
    {
      "cell_type": "code",
      "metadata": {
        "colab": {
          "base_uri": "https://localhost:8080/",
          "height": 265
        },
        "id": "OeQlJZBzjhsk",
        "outputId": "33408a79-5dc9-4eab-f2d9-f9c0b796bc6e"
      },
      "source": [
        "digit = train_images[0]\n",
        "plt.imshow(digit, cmap=plt.cm.binary)\n",
        "plt.show()"
      ],
      "execution_count": 16,
      "outputs": [
        {
          "output_type": "display_data",
          "data": {
            "image/png": "[encoded data removed]",
            "text/plain": [
              "<Figure size 432x288 with 1 Axes>"
            ]
          },
          "metadata": {
            "tags": [],
            "needs_background": "light"
          }
        }
      ]
    },
    {
      "cell_type": "code",
      "metadata": {
        "id": "ileOg_Xfjq5n"
      },
      "source": [
        ""
      ],
      "execution_count": null,
      "outputs": []
    }
  ]
}